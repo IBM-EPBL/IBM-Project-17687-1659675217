{
  "nbformat": 4,
  "nbformat_minor": 0,
  "metadata": {
    "colab": {
      "provenance": []
    },
    "kernelspec": {
      "name": "python3",
      "display_name": "Python 3"
    },
    "language_info": {
      "name": "python"
    }
  },
  "cells": [
    {
      "cell_type": "markdown",
      "source": [
        "#Assignment 3"
      ],
      "metadata": {
        "id": "aNzuE0km8vUu"
      }
    },
    {
      "cell_type": "markdown",
      "source": [
        "## 1.Download the Dataset:\n",
        "https://drive.google.com/file/d/1xkynpL15pt6KT3YSlDimu4A5iRU9qYck/view\n"
      ],
      "metadata": {
        "id": "08oxPqt785kZ"
      }
    },
    {
      "cell_type": "code",
      "source": [
        "#Importing packages \n",
        "from tensorflow.keras.models import Sequential\n",
        "from tensorflow.keras.layers import Convolution2D,MaxPooling2D,Flatten,Dense\n",
        "from tensorflow.keras.preprocessing.image import ImageDataGenerator as idg\n",
        "from tensorflow.keras.preprocessing import image\n",
        "import numpy as np"
      ],
      "metadata": {
        "id": "HLJ2dpDj9WWH"
      },
      "execution_count": 1,
      "outputs": []
    },
    {
      "cell_type": "markdown",
      "source": [
        "## 2.Image Augmentation"
      ],
      "metadata": {
        "id": "EQ0CZroK-QJf"
      }
    },
    {
      "cell_type": "code",
      "source": [
        "#Creating augmentation on training variable\n",
        "train_flower=idg(rescale=1./255 ,zoom_range=0.2,horizontal_flip=True)\n",
        "\n",
        "#Passing Training data to the variable\n",
        "X_Train = train_flower.flow_from_directory('/content/drive/MyDrive/IBM/Flowers-Dataset/flowers',target_size=(76,76),class_mode='categorical',batch_size=100)"
      ],
      "metadata": {
        "colab": {
          "base_uri": "https://localhost:8080/"
        },
        "id": "5hs7q996-tED",
        "outputId": "aad365a6-b42b-4420-9f5e-8f20c4d96b1f"
      },
      "execution_count": 2,
      "outputs": [
        {
          "output_type": "stream",
          "name": "stdout",
          "text": [
            "Found 4327 images belonging to 5 classes.\n"
          ]
        }
      ]
    },
    {
      "cell_type": "code",
      "source": [
        "# Creating augmentation on testing variable\n",
        "test_flowers=idg(rescale=1./255)\n",
        "\n",
        "# Passing testing data to test variable\n",
        "X_test = test_flowers.flow_from_directory('/content/drive/MyDrive/IBM/Flowers-Dataset/flowers',target_size=(76,76),class_mode='categorical',batch_size=100)"
      ],
      "metadata": {
        "colab": {
          "base_uri": "https://localhost:8080/"
        },
        "id": "xPsWiUqHF0ZS",
        "outputId": "e5edc7d1-c21e-4859-d3a9-b192997cf131"
      },
      "execution_count": 3,
      "outputs": [
        {
          "output_type": "stream",
          "name": "stdout",
          "text": [
            "Found 4327 images belonging to 5 classes.\n"
          ]
        }
      ]
    },
    {
      "cell_type": "markdown",
      "source": [
        "# 3.Create Model and Add Layers\n"
      ],
      "metadata": {
        "id": "CTguQPW9I200"
      }
    },
    {
      "cell_type": "code",
      "source": [
        "model = Sequential()\n",
        "model.add(Convolution2D(32,(3,3),activation='relu',input_shape=(76,76,3)))\n",
        "model.add(MaxPooling2D(pool_size=(2,2)))\n",
        "model.add(Flatten())\n",
        "model.add(Dense(300,activation='relu'))\n",
        "model.add(Dense(150,activation='relu'))\n",
        "model.add(Dense(5,activation='softmax'))"
      ],
      "metadata": {
        "id": "4nw_6NInF-39"
      },
      "execution_count": 4,
      "outputs": []
    },
    {
      "cell_type": "markdown",
      "source": [
        "# 4.Compile the Model"
      ],
      "metadata": {
        "id": "-gUsJwtrI8U_"
      }
    },
    {
      "cell_type": "code",
      "source": [
        "model.compile(optimizer='adam',loss='categorical_crossentropy',metrics=['accuracy'])\n"
      ],
      "metadata": {
        "id": "TVEaAZqaGBD_"
      },
      "execution_count": 5,
      "outputs": []
    },
    {
      "cell_type": "markdown",
      "source": [
        "# 5.Fit the Model"
      ],
      "metadata": {
        "id": "4S0B8pM8JAkr"
      }
    },
    {
      "cell_type": "code",
      "source": [
        "model.fit_generator(X_Train,steps_per_epoch= len(X_Train),epochs=10,validation_data=X_test,validation_steps=len(X_test))"
      ],
      "metadata": {
        "colab": {
          "base_uri": "https://localhost:8080/"
        },
        "id": "MIv0wGD7GDkK",
        "outputId": "916f4345-3620-4258-c77d-b558d0013b8e"
      },
      "execution_count": 6,
      "outputs": [
        {
          "metadata": {
            "tags": null
          },
          "name": "stderr",
          "output_type": "stream",
          "text": [
            "/usr/local/lib/python3.7/dist-packages/ipykernel_launcher.py:1: UserWarning: `Model.fit_generator` is deprecated and will be removed in a future version. Please use `Model.fit`, which supports generators.\n",
            "  \"\"\"Entry point for launching an IPython kernel.\n"
          ]
        },
        {
          "metadata": {
            "tags": null
          },
          "name": "stdout",
          "output_type": "stream",
          "text": [
            "Epoch 1/10\n",
            "44/44 [==============================] - 60s 1s/step - loss: 1.7098 - accuracy: 0.3823 - val_loss: 1.1192 - val_accuracy: 0.5463\n",
            "Epoch 2/10\n",
            "44/44 [==============================] - 56s 1s/step - loss: 1.0966 - accuracy: 0.5660 - val_loss: 1.0546 - val_accuracy: 0.5983\n",
            "Epoch 3/10\n",
            "44/44 [==============================] - 56s 1s/step - loss: 0.9941 - accuracy: 0.6087 - val_loss: 0.9571 - val_accuracy: 0.6335\n",
            "Epoch 4/10\n",
            "44/44 [==============================] - 56s 1s/step - loss: 0.9242 - accuracy: 0.6404 - val_loss: 0.9112 - val_accuracy: 0.6503\n",
            "Epoch 5/10\n",
            "44/44 [==============================] - 56s 1s/step - loss: 0.8808 - accuracy: 0.6580 - val_loss: 0.8956 - val_accuracy: 0.6584\n",
            "Epoch 6/10\n",
            "44/44 [==============================] - 56s 1s/step - loss: 0.8210 - accuracy: 0.6843 - val_loss: 0.8476 - val_accuracy: 0.6811\n",
            "Epoch 7/10\n",
            "44/44 [==============================] - 56s 1s/step - loss: 0.7780 - accuracy: 0.7109 - val_loss: 0.8316 - val_accuracy: 0.6936\n",
            "Epoch 8/10\n",
            "44/44 [==============================] - 56s 1s/step - loss: 0.7404 - accuracy: 0.7146 - val_loss: 0.7611 - val_accuracy: 0.7102\n",
            "Epoch 9/10\n",
            "44/44 [==============================] - 56s 1s/step - loss: 0.7376 - accuracy: 0.7164 - val_loss: 0.7963 - val_accuracy: 0.6908\n",
            "Epoch 10/10\n",
            "44/44 [==============================] - 56s 1s/step - loss: 0.6998 - accuracy: 0.7372 - val_loss: 0.6117 - val_accuracy: 0.7647\n"
          ]
        },
        {
          "output_type": "execute_result",
          "data": {
            "text/plain": [
              "<keras.callbacks.History at 0x7fe37db3cb10>"
            ]
          },
          "metadata": {},
          "execution_count": 6
        }
      ]
    },
    {
      "cell_type": "markdown",
      "source": [
        "# 6.Save the model"
      ],
      "metadata": {
        "id": "rdvYy9DoJmGK"
      }
    },
    {
      "cell_type": "code",
      "source": [
        "model.save('Flower.h5')\n"
      ],
      "metadata": {
        "id": "jMaeafC3GGpJ"
      },
      "execution_count": 7,
      "outputs": []
    },
    {
      "cell_type": "markdown",
      "source": [
        "# 7.Test the model"
      ],
      "metadata": {
        "id": "FmLYGvQeJtfz"
      }
    },
    {
      "cell_type": "code",
      "source": [
        "#Testing 1st image\n",
        "img1=image.load_img('/content/drive/MyDrive/IBM/Flowers-Dataset/flowers/sunflower/200557977_bf24d9550b.jpg',target_size=(76,76))\n",
        "img1"
      ],
      "metadata": {
        "colab": {
          "base_uri": "https://localhost:8080/",
          "height": 93
        },
        "id": "_dgpp6FoQ7Zp",
        "outputId": "7189340c-70e8-47b1-c444-9488aa0e1502"
      },
      "execution_count": 8,
      "outputs": [
        {
          "output_type": "execute_result",
          "data": {
            "text/plain": [
              "<PIL.Image.Image image mode=RGB size=76x76 at 0x7FE3758E3CD0>"
            ],
            "image/png": "[encoded data removed]"
          },
          "metadata": {},
          "execution_count": 8
        }
      ]
    },
    {
      "cell_type": "code",
      "source": [
        "x=image.img_to_array(img1)\n",
        "x=np.expand_dims(x,axis=0)\n",
        "y=np.argmax(model.predict(x),axis=1)\n",
        "X_Train.class_indices\n",
        "index=['daisy','dandellion','rose','sunflower','tulip']\n",
        "index[y[0]]"
      ],
      "metadata": {
        "colab": {
          "base_uri": "https://localhost:8080/",
          "height": 36
        },
        "id": "SkW-L3FKSWOl",
        "outputId": "faeeb721-e794-42f4-d778-5805f0007370"
      },
      "execution_count": 9,
      "outputs": [
        {
          "output_type": "execute_result",
          "data": {
            "text/plain": [
              "'sunflower'"
            ],
            "application/vnd.google.colaboratory.intrinsic+json": {
              "type": "string"
            }
          },
          "metadata": {},
          "execution_count": 9
        }
      ]
    },
    {
      "cell_type": "code",
      "source": [
        "#Testing 2nd image\n",
        "img2=image.load_img('/content/drive/MyDrive/IBM/Flowers-Dataset/flowers/rose/10503217854_e66a804309.jpg',target_size=(76,76))\n",
        "img2"
      ],
      "metadata": {
        "colab": {
          "base_uri": "https://localhost:8080/",
          "height": 93
        },
        "id": "QN6OOur-colt",
        "outputId": "92416a31-324f-4e64-b620-a0d8e391ae30"
      },
      "execution_count": 10,
      "outputs": [
        {
          "output_type": "execute_result",
          "data": {
            "text/plain": [
              "<PIL.Image.Image image mode=RGB size=76x76 at 0x7FE3758DB710>"
            ],
            "image/png": "[encoded data removed]"
          },
          "metadata": {},
          "execution_count": 10
        }
      ]
    },
    {
      "cell_type": "code",
      "source": [
        "x=image.img_to_array(img2)\n",
        "x=np.expand_dims(x,axis=0)\n",
        "y=np.argmax(model.predict(x),axis=1)\n",
        "X_Train.class_indices\n",
        "index=['daisy','dandellion','rose','sunflower','tulip']\n",
        "index[y[0]]"
      ],
      "metadata": {
        "colab": {
          "base_uri": "https://localhost:8080/",
          "height": 36
        },
        "id": "z_Ua9ZiHdI8-",
        "outputId": "832a1af4-2acd-45d1-bdf0-4d5a86fabfa9"
      },
      "execution_count": 11,
      "outputs": [
        {
          "output_type": "execute_result",
          "data": {
            "text/plain": [
              "'rose'"
            ],
            "application/vnd.google.colaboratory.intrinsic+json": {
              "type": "string"
            }
          },
          "metadata": {},
          "execution_count": 11
        }
      ]
    }
  ]
}